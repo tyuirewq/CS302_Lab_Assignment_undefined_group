{
  "cells": [
    {
      "cell_type": "markdown",
      "metadata": {
        "id": "vsr6SmGvLBlz"
      },
      "source": [
        "**Computer v/s  Men**"
      ]
    },
    {
      "cell_type": "code",
      "execution_count": null,
      "metadata": {
        "colab": {
          "base_uri": "https://localhost:8080/"
        },
        "id": "Ipx6d-eJiJa6",
        "outputId": "6aab0183-32fa-43c5-9f0b-c3ada5c6f088"
      },
      "outputs": [
        {
          "name": "stdout",
          "output_type": "stream",
          "text": [
            "Enter the number of objects in each Piles, separated by spaces: 1 2 3\n",
            "Current state of the game: [1, 2, 3]\n",
            " Player Select Pile? (between 1 and 3): 3\n",
            "Player No of objects to remove? (between 1 and 3): 3\n",
            "Current state of the game: [1, 2, 0]\n",
            "Computer removed 1 objects from pile 2\n",
            "Current state of the game: [1, 1, 0]\n",
            "Current state of the game: [1, 1, 0]\n",
            " Player Select Pile? (between 1 and 3): 2\n",
            "Player No of objects to remove? (between 1 and 1): 1\n",
            "Current state of the game: [1, 0, 0]\n",
            "Computer removed 1 objects from pile 1\n",
            "Current state of the game: [0, 0, 0]\n",
            "Computer win!\n"
          ]
        }
      ],
      "source": [
        "import math\n",
        "\n",
        "def minmax(intial_configuration, is_maxAgent):\n",
        "    if all(x == 0 for x in intial_configuration):\n",
        "        return (0, []) if is_maxAgent else (1, [])\n",
        "\n",
        "    best_score = -math.inf if is_maxAgent else math.inf\n",
        "    best_moves = []\n",
        "\n",
        "    for i, pile in enumerate(intial_configuration):\n",
        "        for j in range(1, pile + 1):\n",
        "            new_configuration = intial_configuration[:]\n",
        "            new_configuration[i] = pile - j\n",
        "            current_score, moves = minmax(new_configuration, not is_maxAgent)\n",
        "            if is_maxAgent:\n",
        "                if current_score > best_score:\n",
        "                    best_score = current_score\n",
        "                    best_moves = [(i, j)] + moves\n",
        "            else:\n",
        "                if current_score < best_score:\n",
        "                    best_score = current_score\n",
        "                    best_moves = [(i, j)] + moves\n",
        "\n",
        "    return (best_score, best_moves)\n",
        "\n",
        "def main():\n",
        "    intial_configuration = list(map(int, input(\"Enter the number of objects in each Piles, separated by spaces: \").split()))\n",
        "    turn=True # false => Player 1\n",
        "    \n",
        "    while True:\n",
        "      if turn:\n",
        "        print(\"Current state of the game:\", intial_configuration)\n",
        "        pile_select = int(input(\" Player Select Pile? (between 1 and %d): \" % len(intial_configuration))) - 1\n",
        "        if pile_select < 0 or pile_select >= len(intial_configuration):\n",
        "            print(\"Invalid Pile. Please try again.\")\n",
        "            continue\n",
        "        remove = int(input(\"Player No of objects to remove? (between 1 and %d): \" % intial_configuration[pile_select]))\n",
        "        if remove < 1 or remove > intial_configuration[pile_select]:\n",
        "            print(\"Invalid input. Please try again.\")\n",
        "            continue\n",
        "        intial_configuration[pile_select] -= remove\n",
        "        turn = False\n",
        "        if all(x == 0 for   x in intial_configuration):\n",
        "            print(\"You win!\")\n",
        "            return\n",
        "      else:\n",
        "        print(\"Current state of the game:\", intial_configuration)\n",
        "        current_score, moves = minmax(intial_configuration, True)\n",
        "        pile_select, remove = moves[0]\n",
        "        intial_configuration[pile_select] -= remove\n",
        "        print(\"Computer removed\", remove, \"objects from pile\", pile_select + 1)\n",
        "        print(\"Current state of the game:\", intial_configuration)\n",
        "        turn = True\n",
        "        if all(x == 0 for x in intial_configuration):\n",
        "            print(\"Computer win!\")\n",
        "            return \n",
        "main()"
      ]
    },
    {
      "cell_type": "markdown",
      "metadata": {
        "id": "N0AQ9yR6LI7R"
      },
      "source": [
        "**Computer v/s Computer**"
      ]
    },
    {
      "cell_type": "code",
      "execution_count": null,
      "metadata": {
        "colab": {
          "base_uri": "https://localhost:8080/"
        },
        "id": "rFCFOxVqETzn",
        "outputId": "774c7dd8-6bab-415f-e8ec-15fad577b556"
      },
      "outputs": [
        {
          "name": "stdout",
          "output_type": "stream",
          "text": [
            "Enter the number of objects in each Piles, separated by spaces: 1 2 1\n",
            "Current state of the game: [1, 2, 1]\n",
            "Computer removed 2 objects from pile 2\n",
            "Current state of the game: [1, 0, 1]\n",
            "Current state of the game: [1, 0, 1]\n",
            "Computer removed 1 objects from pile 1\n",
            "Current state of the game: [0, 0, 1]\n",
            "Current state of the game: [0, 0, 1]\n",
            "Computer removed 1 objects from pile 3\n",
            "Current state of the game: [0, 0, 0]\n",
            "Computer 1 win!\n"
          ]
        }
      ],
      "source": [
        "import math\n",
        "\n",
        "def minmax(intial_configuration, is_maxAgent):\n",
        "    if all(x == 0 for x in intial_configuration):\n",
        "        return (0, []) if is_maxAgent else (1, [])\n",
        "\n",
        "    best_score = -math.inf if is_maxAgent else math.inf\n",
        "    best_moves = []\n",
        "\n",
        "    for i, pile in enumerate(intial_configuration):\n",
        "        for j in range(1, pile + 1):\n",
        "            new_configuration = intial_configuration[:]\n",
        "            new_configuration[i] = pile - j\n",
        "            current_score, moves = minmax(new_configuration, not is_maxAgent)\n",
        "            if is_maxAgent:\n",
        "                if current_score > best_score:\n",
        "                    best_score = current_score\n",
        "                    best_moves = [(i, j)] + moves\n",
        "            else:\n",
        "                if current_score < best_score:\n",
        "                    best_score = current_score\n",
        "                    best_moves = [(i, j)] + moves\n",
        "\n",
        "    return (best_score, best_moves)\n",
        "\n",
        "def main():\n",
        "    intial_configuration = list(map(int, input(\"Enter the number of objects in each Piles, separated by spaces: \").split()))\n",
        "    turn=True # false => Player 1\n",
        "    \n",
        "    while True:\n",
        "      if turn:\n",
        "        print(\"Current state of the game:\", intial_configuration)\n",
        "        current_score, moves = minmax(intial_configuration, False)\n",
        "        pile_select, remove = moves[0]\n",
        "        intial_configuration[pile_select] -= remove\n",
        "        print(\"Computer removed\", remove, \"objects from pile\", pile_select + 1)\n",
        "        print(\"Current state of the game:\", intial_configuration)\n",
        "        turn = False\n",
        "        if all(x == 0 for x in intial_configuration):\n",
        "            print(\"Computer 1 win!\")\n",
        "            return\n",
        "      else:\n",
        "        print(\"Current state of the game:\", intial_configuration)\n",
        "        current_score, moves = minmax(intial_configuration, True)\n",
        "        pile_select, remove = moves[0]\n",
        "        intial_configuration[pile_select] -= remove\n",
        "        print(\"Computer removed\", remove, \"objects from pile\", pile_select + 1)\n",
        "        print(\"Current state of the game:\", intial_configuration)\n",
        "        turn = True\n",
        "        if all(x == 0 for x in intial_configuration):\n",
        "            print(\"Computer 2 win!\")\n",
        "            return \n",
        "main()"
      ]
    },
    {
      "cell_type": "code",
      "execution_count": null,
      "metadata": {
        "colab": {
          "base_uri": "https://localhost:8080/"
        },
        "id": "y-UU1vJ_zwp1",
        "outputId": "828acb68-a458-4c17-97e8-ac34a1f0c199"
      },
      "outputs": [
        {
          "name": "stdout",
          "output_type": "stream",
          "text": [
            "Enter the number of objects in each heap, separated by spaces: 1 6 9\n",
            "Current state of the game: [1, 6, 9]\n",
            "Computer 1 removed 2 objects from heap 3\n",
            "Current state of the game: [1, 6, 7]\n",
            "Current state of the game: [1, 6, 7]\n",
            "Computer 2 removed 1 objects from heap 1\n",
            "Current state of the game: [0, 6, 7]\n",
            "Current state of the game: [0, 6, 7]\n",
            "Computer 1 removed 1 objects from heap 3\n",
            "Current state of the game: [0, 6, 6]\n",
            "Current state of the game: [0, 6, 6]\n",
            "Computer 2 removed 1 objects from heap 2\n",
            "Current state of the game: [0, 5, 6]\n",
            "Current state of the game: [0, 5, 6]\n",
            "Computer 1 removed 1 objects from heap 3\n",
            "Current state of the game: [0, 5, 5]\n",
            "Current state of the game: [0, 5, 5]\n",
            "Computer 2 removed 1 objects from heap 2\n",
            "Current state of the game: [0, 4, 5]\n",
            "Current state of the game: [0, 4, 5]\n",
            "Computer 1 removed 1 objects from heap 3\n",
            "Current state of the game: [0, 4, 4]\n",
            "Current state of the game: [0, 4, 4]\n",
            "Computer 2 removed 1 objects from heap 2\n",
            "Current state of the game: [0, 3, 4]\n",
            "Current state of the game: [0, 3, 4]\n",
            "Computer 1 removed 1 objects from heap 3\n",
            "Current state of the game: [0, 3, 3]\n",
            "Current state of the game: [0, 3, 3]\n",
            "Computer 2 removed 1 objects from heap 2\n",
            "Current state of the game: [0, 2, 3]\n",
            "Current state of the game: [0, 2, 3]\n",
            "Computer 1 removed 1 objects from heap 3\n",
            "Current state of the game: [0, 2, 2]\n",
            "Current state of the game: [0, 2, 2]\n",
            "Computer 2 removed 1 objects from heap 2\n",
            "Current state of the game: [0, 1, 2]\n",
            "Current state of the game: [0, 1, 2]\n",
            "Computer 1 removed 1 objects from heap 3\n",
            "Current state of the game: [0, 1, 1]\n",
            "Current state of the game: [0, 1, 1]\n",
            "Computer 2 removed 1 objects from heap 2\n",
            "Current state of the game: [0, 0, 1]\n",
            "Current state of the game: [0, 0, 1]\n",
            "Computer 1 removed 1 objects from heap 3\n",
            "Current state of the game: [0, 0, 0]\n",
            "Computer 1 win!\n"
          ]
        }
      ],
      "source": [
        "main()"
      ]
    },
    {
      "cell_type": "code",
      "execution_count": null,
      "metadata": {
        "colab": {
          "base_uri": "https://localhost:8080/"
        },
        "id": "PVdhJVYu0I6F",
        "outputId": "e48496e0-fc5b-44d6-936d-a36f313da407"
      },
      "outputs": [
        {
          "name": "stdout",
          "output_type": "stream",
          "text": [
            "Enter the number of objects in each heap, separated by spaces: 4 4 9\n",
            "Current state of the game: [4, 4, 9]\n",
            "Computer 1 removed 9 objects from heap 3\n",
            "Current state of the game: [4, 4, 0]\n",
            "Current state of the game: [4, 4, 0]\n",
            "Computer 2 removed 1 objects from heap 1\n",
            "Current state of the game: [3, 4, 0]\n",
            "Current state of the game: [3, 4, 0]\n",
            "Computer 1 removed 1 objects from heap 2\n",
            "Current state of the game: [3, 3, 0]\n",
            "Current state of the game: [3, 3, 0]\n",
            "Computer 2 removed 1 objects from heap 1\n",
            "Current state of the game: [2, 3, 0]\n",
            "Current state of the game: [2, 3, 0]\n",
            "Computer 1 removed 1 objects from heap 2\n",
            "Current state of the game: [2, 2, 0]\n",
            "Current state of the game: [2, 2, 0]\n",
            "Computer 2 removed 1 objects from heap 1\n",
            "Current state of the game: [1, 2, 0]\n",
            "Current state of the game: [1, 2, 0]\n",
            "Computer 1 removed 1 objects from heap 2\n",
            "Current state of the game: [1, 1, 0]\n",
            "Current state of the game: [1, 1, 0]\n",
            "Computer 2 removed 1 objects from heap 1\n",
            "Current state of the game: [0, 1, 0]\n",
            "Current state of the game: [0, 1, 0]\n",
            "Computer 1 removed 1 objects from heap 2\n",
            "Current state of the game: [0, 0, 0]\n",
            "Computer 1 win!\n"
          ]
        }
      ],
      "source": [
        "main()"
      ]
    }
  ],
  "metadata": {
    "colab": {
      "provenance": []
    },
    "kernelspec": {
      "display_name": "Python 3",
      "name": "python3"
    },
    "language_info": {
      "name": "python"
    }
  },
  "nbformat": 4,
  "nbformat_minor": 0
}